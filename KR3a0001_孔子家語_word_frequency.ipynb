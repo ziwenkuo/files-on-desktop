{
 "cells": [
  {
   "cell_type": "code",
   "execution_count": 9,
   "metadata": {},
   "outputs": [
    {
     "data": {
      "text/html": [
       "<div>\n",
       "<style scoped>\n",
       "    .dataframe tbody tr th:only-of-type {\n",
       "        vertical-align: middle;\n",
       "    }\n",
       "\n",
       "    .dataframe tbody tr th {\n",
       "        vertical-align: top;\n",
       "    }\n",
       "\n",
       "    .dataframe thead th {\n",
       "        text-align: right;\n",
       "    }\n",
       "</style>\n",
       "<table border=\"1\" class=\"dataframe\">\n",
       "  <thead>\n",
       "    <tr style=\"text-align: right;\">\n",
       "      <th></th>\n",
       "      <th>Chapter</th>\n",
       "      <th>Frequency</th>\n",
       "    </tr>\n",
       "  </thead>\n",
       "  <tbody>\n",
       "    <tr>\n",
       "      <th>1</th>\n",
       "      <td>0</td>\n",
       "      <td>1</td>\n",
       "    </tr>\n",
       "    <tr>\n",
       "      <th>2</th>\n",
       "      <td>1</td>\n",
       "      <td>0</td>\n",
       "    </tr>\n",
       "    <tr>\n",
       "      <th>3</th>\n",
       "      <td>2</td>\n",
       "      <td>25</td>\n",
       "    </tr>\n",
       "    <tr>\n",
       "      <th>4</th>\n",
       "      <td>3</td>\n",
       "      <td>6</td>\n",
       "    </tr>\n",
       "    <tr>\n",
       "      <th>5</th>\n",
       "      <td>4</td>\n",
       "      <td>4</td>\n",
       "    </tr>\n",
       "    <tr>\n",
       "      <th>6</th>\n",
       "      <td>5</td>\n",
       "      <td>20</td>\n",
       "    </tr>\n",
       "    <tr>\n",
       "      <th>7</th>\n",
       "      <td>6</td>\n",
       "      <td>0</td>\n",
       "    </tr>\n",
       "    <tr>\n",
       "      <th>8</th>\n",
       "      <td>7</td>\n",
       "      <td>4</td>\n",
       "    </tr>\n",
       "    <tr>\n",
       "      <th>9</th>\n",
       "      <td>8</td>\n",
       "      <td>6</td>\n",
       "    </tr>\n",
       "    <tr>\n",
       "      <th>10</th>\n",
       "      <td>9</td>\n",
       "      <td>3</td>\n",
       "    </tr>\n",
       "    <tr>\n",
       "      <th>11</th>\n",
       "      <td>10</td>\n",
       "      <td>0</td>\n",
       "    </tr>\n",
       "  </tbody>\n",
       "</table>\n",
       "</div>"
      ],
      "text/plain": [
       "    Chapter  Frequency\n",
       "1         0          1\n",
       "2         1          0\n",
       "3         2         25\n",
       "4         3          6\n",
       "5         4          4\n",
       "6         5         20\n",
       "7         6          0\n",
       "8         7          4\n",
       "9         8          6\n",
       "10        9          3\n",
       "11       10          0"
      ]
     },
     "execution_count": 9,
     "metadata": {},
     "output_type": "execute_result"
    }
   ],
   "source": [
    "import numpy as np\n",
    "import matplotlib.pyplot as plt\n",
    "import pandas as pd\n",
    "%matplotlib inline\n",
    "\n",
    "from ctext import *\n",
    "setapikey(\"demo\")\n",
    "\n",
    "\n",
    "import bs4 as bs\n",
    "import urllib.request\n",
    "corp={}\n",
    "for x in range(0, 11):\n",
    "    sauce = urllib.request.urlopen('https://www.kanripo.org/text/KR3a0001/00%d' % (x)).read()\n",
    "    soup = bs.BeautifulSoup(sauce, 'lxml')\n",
    "\n",
    "    corp[x] = \"\"\n",
    "    for paragraph in soup.find_all('p'):\n",
    "        corp[x]+=paragraph.text\n",
    "\n",
    "\n",
    "frequency=[]\n",
    "chapter_list=[]\n",
    "\n",
    "for i in corp:\n",
    "    match_count = {} \n",
    "    for match in re.finditer(r\"子路\", corp[i]):\n",
    "        matched_text = match.group(0) \n",
    "        if not matched_text in match_count:\n",
    "            match_count[matched_text] = 0 \n",
    "        match_count[matched_text] = match_count[matched_text] + 1\n",
    "    frequency.append(str(match_count.values()))\n",
    "    chapter_list.append(int(i))\n",
    "\n",
    "\n",
    "d = {'Chapter': chapter_list, 'Frequency': frequency}\n",
    "df = pd.DataFrame(data=d)\n",
    "df['Frequency'] = df['Frequency'].map(lambda x: x.lstrip('dict_values([').rstrip('])'))\n",
    "df.index = np.arange(1, len(df)+1)\n",
    "df.replace('', 0, inplace=True)\n",
    "df['Frequency'] = df['Frequency'].astype(int)\n",
    "\n",
    "df"
   ]
  },
  {
   "cell_type": "code",
   "execution_count": 10,
   "metadata": {},
   "outputs": [
    {
     "data": {
      "image/png": "[encoded data removed]",
      "text/plain": [
       "<Figure size 432x288 with 1 Axes>"
      ]
     },
     "metadata": {
      "needs_background": "light"
     },
     "output_type": "display_data"
    }
   ],
   "source": [
    "df.plot(x=\"Chapter\", y=\"Frequency\", kind='bar');"
   ]
  },
  {
   "cell_type": "code",
   "execution_count": null,
   "metadata": {},
   "outputs": [],
   "source": []
  },
  {
   "cell_type": "code",
   "execution_count": null,
   "metadata": {},
   "outputs": [],
   "source": []
  },
  {
   "cell_type": "code",
   "execution_count": null,
   "metadata": {},
   "outputs": [],
   "source": []
  }
 ],
 "metadata": {
  "kernelspec": {
   "display_name": "Python 3",
   "language": "python",
   "name": "python3"
  },
  "language_info": {
   "codemirror_mode": {
    "name": "ipython",
    "version": 3
   },
   "file_extension": ".py",
   "mimetype": "text/x-python",
   "name": "python",
   "nbconvert_exporter": "python",
   "pygments_lexer": "ipython3",
   "version": "3.8.2"
  }
 },
 "nbformat": 4,
 "nbformat_minor": 4
}
